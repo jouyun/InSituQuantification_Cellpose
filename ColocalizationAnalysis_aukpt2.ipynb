{
 "cells": [
  {
   "cell_type": "code",
   "execution_count": 1,
   "metadata": {},
   "outputs": [],
   "source": [
    "import pandas as pd\n",
    "import numpy as np\n",
    "import seaborn as sns\n",
    "import plotly.express as px\n",
    "import scipy as sp\n",
    "import matplotlib.pyplot as plt\n",
    "import glob\n",
    "%gui qt5\n",
    "import napari\n",
    "import tifffile\n",
    "import plotly.graph_objs as go"
   ]
  },
  {
   "cell_type": "code",
   "execution_count": 2,
   "metadata": {},
   "outputs": [],
   "source": [
    "viewer = napari.Viewer()"
   ]
  },
  {
   "cell_type": "code",
   "execution_count": 3,
   "metadata": {},
   "outputs": [],
   "source": [
    "df = pd.DataFrame()\n",
    "for f in glob.glob('*.csv'):\n",
    "    tdf = pd.read_csv(f)\n",
    "    tdf['File'] = f\n",
    "    df = pd.concat([df, tdf])"
   ]
  },
  {
   "cell_type": "code",
   "execution_count": 4,
   "metadata": {},
   "outputs": [
    {
     "ename": "KeyError",
     "evalue": "'File'",
     "output_type": "error",
     "traceback": [
      "\u001b[1;31m---------------------------------------------------------------------------\u001b[0m",
      "\u001b[1;31mKeyError\u001b[0m                                  Traceback (most recent call last)",
      "\u001b[1;32mc:\\users\\smc\\anaconda3\\envs\\ip\\lib\\site-packages\\pandas\\core\\indexes\\base.py\u001b[0m in \u001b[0;36mget_loc\u001b[1;34m(self, key, method, tolerance)\u001b[0m\n\u001b[0;32m   3079\u001b[0m             \u001b[1;32mtry\u001b[0m\u001b[1;33m:\u001b[0m\u001b[1;33m\u001b[0m\u001b[1;33m\u001b[0m\u001b[0m\n\u001b[1;32m-> 3080\u001b[1;33m                 \u001b[1;32mreturn\u001b[0m \u001b[0mself\u001b[0m\u001b[1;33m.\u001b[0m\u001b[0m_engine\u001b[0m\u001b[1;33m.\u001b[0m\u001b[0mget_loc\u001b[0m\u001b[1;33m(\u001b[0m\u001b[0mcasted_key\u001b[0m\u001b[1;33m)\u001b[0m\u001b[1;33m\u001b[0m\u001b[1;33m\u001b[0m\u001b[0m\n\u001b[0m\u001b[0;32m   3081\u001b[0m             \u001b[1;32mexcept\u001b[0m \u001b[0mKeyError\u001b[0m \u001b[1;32mas\u001b[0m \u001b[0merr\u001b[0m\u001b[1;33m:\u001b[0m\u001b[1;33m\u001b[0m\u001b[1;33m\u001b[0m\u001b[0m\n",
      "\u001b[1;32mpandas\\_libs\\index.pyx\u001b[0m in \u001b[0;36mpandas._libs.index.IndexEngine.get_loc\u001b[1;34m()\u001b[0m\n",
      "\u001b[1;32mpandas\\_libs\\index.pyx\u001b[0m in \u001b[0;36mpandas._libs.index.IndexEngine.get_loc\u001b[1;34m()\u001b[0m\n",
      "\u001b[1;32mpandas\\_libs\\hashtable_class_helper.pxi\u001b[0m in \u001b[0;36mpandas._libs.hashtable.PyObjectHashTable.get_item\u001b[1;34m()\u001b[0m\n",
      "\u001b[1;32mpandas\\_libs\\hashtable_class_helper.pxi\u001b[0m in \u001b[0;36mpandas._libs.hashtable.PyObjectHashTable.get_item\u001b[1;34m()\u001b[0m\n",
      "\u001b[1;31mKeyError\u001b[0m: 'File'",
      "\nThe above exception was the direct cause of the following exception:\n",
      "\u001b[1;31mKeyError\u001b[0m                                  Traceback (most recent call last)",
      "\u001b[1;32m<ipython-input-4-e2075b977d2a>\u001b[0m in \u001b[0;36m<module>\u001b[1;34m\u001b[0m\n\u001b[1;32m----> 1\u001b[1;33m \u001b[0mdf\u001b[0m\u001b[1;33m[\u001b[0m\u001b[1;34m'gene'\u001b[0m\u001b[1;33m]\u001b[0m \u001b[1;33m=\u001b[0m \u001b[0mdf\u001b[0m\u001b[1;33m[\u001b[0m\u001b[1;34m'File'\u001b[0m\u001b[1;33m]\u001b[0m\u001b[1;33m.\u001b[0m\u001b[0mstr\u001b[0m\u001b[1;33m.\u001b[0m\u001b[0msplit\u001b[0m\u001b[1;33m(\u001b[0m\u001b[1;34m'_'\u001b[0m\u001b[1;33m)\u001b[0m\u001b[1;33m.\u001b[0m\u001b[0mstr\u001b[0m\u001b[1;33m[\u001b[0m\u001b[1;36m0\u001b[0m\u001b[1;33m]\u001b[0m\u001b[1;33m\u001b[0m\u001b[1;33m\u001b[0m\u001b[0m\n\u001b[0m\u001b[0;32m      2\u001b[0m \u001b[0mdf\u001b[0m\u001b[1;33m[\u001b[0m\u001b[1;34m'channel'\u001b[0m\u001b[1;33m]\u001b[0m \u001b[1;33m=\u001b[0m \u001b[0mdf\u001b[0m\u001b[1;33m[\u001b[0m\u001b[1;34m'Label'\u001b[0m\u001b[1;33m]\u001b[0m\u001b[1;33m.\u001b[0m\u001b[0mstr\u001b[0m\u001b[1;33m.\u001b[0m\u001b[0msplit\u001b[0m\u001b[1;33m(\u001b[0m\u001b[1;34m':'\u001b[0m\u001b[1;33m)\u001b[0m\u001b[1;33m.\u001b[0m\u001b[0mstr\u001b[0m\u001b[1;33m[\u001b[0m\u001b[1;36m0\u001b[0m\u001b[1;33m]\u001b[0m\u001b[1;33m.\u001b[0m\u001b[0mstr\u001b[0m\u001b[1;33m[\u001b[0m\u001b[1;33m-\u001b[0m\u001b[1;36m1\u001b[0m\u001b[1;33m]\u001b[0m\u001b[1;33m\u001b[0m\u001b[1;33m\u001b[0m\u001b[0m\n\u001b[0;32m      3\u001b[0m \u001b[0mdf\u001b[0m\u001b[1;33m[\u001b[0m\u001b[1;34m'file'\u001b[0m\u001b[1;33m]\u001b[0m \u001b[1;33m=\u001b[0m \u001b[0mdf\u001b[0m\u001b[1;33m[\u001b[0m\u001b[1;34m'File'\u001b[0m\u001b[1;33m]\u001b[0m\u001b[1;33m.\u001b[0m\u001b[0mstr\u001b[0m\u001b[1;33m.\u001b[0m\u001b[0msplit\u001b[0m\u001b[1;33m(\u001b[0m\u001b[1;34m':'\u001b[0m\u001b[1;33m)\u001b[0m\u001b[1;33m.\u001b[0m\u001b[0mstr\u001b[0m\u001b[1;33m[\u001b[0m\u001b[1;36m0\u001b[0m\u001b[1;33m]\u001b[0m\u001b[1;33m.\u001b[0m\u001b[0mstr\u001b[0m\u001b[1;33m[\u001b[0m\u001b[1;36m0\u001b[0m\u001b[1;33m:\u001b[0m\u001b[1;33m-\u001b[0m\u001b[1;36m4\u001b[0m\u001b[1;33m]\u001b[0m\u001b[1;33m\u001b[0m\u001b[1;33m\u001b[0m\u001b[0m\n\u001b[0;32m      4\u001b[0m \u001b[0mdf\u001b[0m\u001b[1;33m[\u001b[0m\u001b[1;34m'time'\u001b[0m\u001b[1;33m]\u001b[0m \u001b[1;33m=\u001b[0m \u001b[0mdf\u001b[0m\u001b[1;33m[\u001b[0m\u001b[1;34m'File'\u001b[0m\u001b[1;33m]\u001b[0m\u001b[1;33m.\u001b[0m\u001b[0mstr\u001b[0m\u001b[1;33m.\u001b[0m\u001b[0msplit\u001b[0m\u001b[1;33m(\u001b[0m\u001b[1;34m'_'\u001b[0m\u001b[1;33m)\u001b[0m\u001b[1;33m.\u001b[0m\u001b[0mstr\u001b[0m\u001b[1;33m[\u001b[0m\u001b[1;36m1\u001b[0m\u001b[1;33m]\u001b[0m\u001b[1;33m\u001b[0m\u001b[1;33m\u001b[0m\u001b[0m\n\u001b[0;32m      5\u001b[0m \u001b[0mdf\u001b[0m\u001b[1;33m[\u001b[0m\u001b[1;34m'time'\u001b[0m\u001b[1;33m]\u001b[0m \u001b[1;33m=\u001b[0m \u001b[0mdf\u001b[0m\u001b[1;33m[\u001b[0m\u001b[1;34m'time'\u001b[0m\u001b[1;33m]\u001b[0m\u001b[1;33m.\u001b[0m\u001b[0mmap\u001b[0m\u001b[1;33m(\u001b[0m\u001b[1;33m{\u001b[0m\u001b[1;34m'homeo'\u001b[0m\u001b[1;33m:\u001b[0m\u001b[1;34m'00dpa'\u001b[0m\u001b[1;33m,\u001b[0m \u001b[1;34m'1dpa'\u001b[0m\u001b[1;33m:\u001b[0m\u001b[1;34m'01dpa'\u001b[0m\u001b[1;33m,\u001b[0m \u001b[1;34m'2dpa'\u001b[0m\u001b[1;33m:\u001b[0m\u001b[1;34m'02dpa'\u001b[0m\u001b[1;33m}\u001b[0m\u001b[1;33m)\u001b[0m\u001b[1;33m\u001b[0m\u001b[1;33m\u001b[0m\u001b[0m\n",
      "\u001b[1;32mc:\\users\\smc\\anaconda3\\envs\\ip\\lib\\site-packages\\pandas\\core\\frame.py\u001b[0m in \u001b[0;36m__getitem__\u001b[1;34m(self, key)\u001b[0m\n\u001b[0;32m   3022\u001b[0m             \u001b[1;32mif\u001b[0m \u001b[0mself\u001b[0m\u001b[1;33m.\u001b[0m\u001b[0mcolumns\u001b[0m\u001b[1;33m.\u001b[0m\u001b[0mnlevels\u001b[0m \u001b[1;33m>\u001b[0m \u001b[1;36m1\u001b[0m\u001b[1;33m:\u001b[0m\u001b[1;33m\u001b[0m\u001b[1;33m\u001b[0m\u001b[0m\n\u001b[0;32m   3023\u001b[0m                 \u001b[1;32mreturn\u001b[0m \u001b[0mself\u001b[0m\u001b[1;33m.\u001b[0m\u001b[0m_getitem_multilevel\u001b[0m\u001b[1;33m(\u001b[0m\u001b[0mkey\u001b[0m\u001b[1;33m)\u001b[0m\u001b[1;33m\u001b[0m\u001b[1;33m\u001b[0m\u001b[0m\n\u001b[1;32m-> 3024\u001b[1;33m             \u001b[0mindexer\u001b[0m \u001b[1;33m=\u001b[0m \u001b[0mself\u001b[0m\u001b[1;33m.\u001b[0m\u001b[0mcolumns\u001b[0m\u001b[1;33m.\u001b[0m\u001b[0mget_loc\u001b[0m\u001b[1;33m(\u001b[0m\u001b[0mkey\u001b[0m\u001b[1;33m)\u001b[0m\u001b[1;33m\u001b[0m\u001b[1;33m\u001b[0m\u001b[0m\n\u001b[0m\u001b[0;32m   3025\u001b[0m             \u001b[1;32mif\u001b[0m \u001b[0mis_integer\u001b[0m\u001b[1;33m(\u001b[0m\u001b[0mindexer\u001b[0m\u001b[1;33m)\u001b[0m\u001b[1;33m:\u001b[0m\u001b[1;33m\u001b[0m\u001b[1;33m\u001b[0m\u001b[0m\n\u001b[0;32m   3026\u001b[0m                 \u001b[0mindexer\u001b[0m \u001b[1;33m=\u001b[0m \u001b[1;33m[\u001b[0m\u001b[0mindexer\u001b[0m\u001b[1;33m]\u001b[0m\u001b[1;33m\u001b[0m\u001b[1;33m\u001b[0m\u001b[0m\n",
      "\u001b[1;32mc:\\users\\smc\\anaconda3\\envs\\ip\\lib\\site-packages\\pandas\\core\\indexes\\base.py\u001b[0m in \u001b[0;36mget_loc\u001b[1;34m(self, key, method, tolerance)\u001b[0m\n\u001b[0;32m   3080\u001b[0m                 \u001b[1;32mreturn\u001b[0m \u001b[0mself\u001b[0m\u001b[1;33m.\u001b[0m\u001b[0m_engine\u001b[0m\u001b[1;33m.\u001b[0m\u001b[0mget_loc\u001b[0m\u001b[1;33m(\u001b[0m\u001b[0mcasted_key\u001b[0m\u001b[1;33m)\u001b[0m\u001b[1;33m\u001b[0m\u001b[1;33m\u001b[0m\u001b[0m\n\u001b[0;32m   3081\u001b[0m             \u001b[1;32mexcept\u001b[0m \u001b[0mKeyError\u001b[0m \u001b[1;32mas\u001b[0m \u001b[0merr\u001b[0m\u001b[1;33m:\u001b[0m\u001b[1;33m\u001b[0m\u001b[1;33m\u001b[0m\u001b[0m\n\u001b[1;32m-> 3082\u001b[1;33m                 \u001b[1;32mraise\u001b[0m \u001b[0mKeyError\u001b[0m\u001b[1;33m(\u001b[0m\u001b[0mkey\u001b[0m\u001b[1;33m)\u001b[0m \u001b[1;32mfrom\u001b[0m \u001b[0merr\u001b[0m\u001b[1;33m\u001b[0m\u001b[1;33m\u001b[0m\u001b[0m\n\u001b[0m\u001b[0;32m   3083\u001b[0m \u001b[1;33m\u001b[0m\u001b[0m\n\u001b[0;32m   3084\u001b[0m         \u001b[1;32mif\u001b[0m \u001b[0mtolerance\u001b[0m \u001b[1;32mis\u001b[0m \u001b[1;32mnot\u001b[0m \u001b[1;32mNone\u001b[0m\u001b[1;33m:\u001b[0m\u001b[1;33m\u001b[0m\u001b[1;33m\u001b[0m\u001b[0m\n",
      "\u001b[1;31mKeyError\u001b[0m: 'File'"
     ]
    }
   ],
   "source": [
    "df['gene'] = df['File'].str.split('_').str[0]\n",
    "df['channel'] = df['Label'].str.split(':').str[0].str[-1]\n",
    "df['file'] = df['File'].str.split(':').str[0].str[0:-4]\n",
    "df['time'] = df['File'].str.split('_').str[1]\n",
    "df['time'] = df['time'].map({'homeo':'00dpa', '1dpa':'01dpa', '2dpa':'02dpa'})\n",
    "df['SSlice'] = \"S\"+df['Slice'].astype(str)\n",
    "df['timen'] = df['time'].str[0:2].astype(int)\n",
    "df['region'] = df['Label'].str.split('_').str[2]"
   ]
  },
  {
   "cell_type": "markdown",
   "metadata": {},
   "source": [
    "I found that the very first slice (which is entirely epithelium), sometimes has garbage on it that makes cells show up as positive when they really are not, so the simple fix is to simply throw out those cells.  It also messes up the normalization to come if they are present."
   ]
  },
  {
   "cell_type": "code",
   "execution_count": null,
   "metadata": {},
   "outputs": [],
   "source": [
    "df = df[df['Slice']>1]"
   ]
  },
  {
   "cell_type": "markdown",
   "metadata": {},
   "source": [
    "# Normalize"
   ]
  },
  {
   "cell_type": "markdown",
   "metadata": {},
   "source": [
    "Intensities across samples that are treated the same way are not similar.  Sif is present in all images yet varies significantly in its intensity levels.  This normalizes for each file both channels by finding the 30th percentile of intensity, and dividing by that amount.  The 90th percentile correction proved too sensitive."
   ]
  },
  {
   "cell_type": "code",
   "execution_count": null,
   "metadata": {},
   "outputs": [],
   "source": [
    "rdf = df[df['channel']=='1']\n",
    "tdf = df[df['channel']=='2']\n",
    "\n",
    "rdf['Mean2'] = list(tdf['Mean'])\n",
    "rdf['IntDen2'] = list(tdf['IntDen'])\n",
    "\n",
    "#normer = rdf.groupby(['file']).agg({'Mean':np.median, \n",
    "#                                   'Mean2':np.median}).reset_index().rename(columns={'Mean':'Median', 'Mean2':'Median2', 'file':'lfile'})\n",
    "normer_low = rdf.groupby(['file']).agg({'Mean':(lambda x: np.percentile(x, 30)), \n",
    "                                   'Mean2':(lambda x:np.percentile(x,30))}).reset_index()\n",
    "normer_high = rdf.groupby(['file']).agg({'Mean':(lambda x: np.percentile(x, 90)), \n",
    "                                   'Mean2':(lambda x:np.percentile(x,90))}).reset_index()\n",
    "normer = normer_low.merge(normer_high, on='file').rename(columns={'Mean_x':'LowMean', 'Mean2_x':'LowMean2', 'Mean_y':'HighMean',\n",
    "                                                        'Mean2_y':'HighMean2', 'file':'lfile'})\n",
    "\n",
    "rdf = rdf.merge(normer, left_on='file', right_on='lfile')\n",
    "#rdf['Mean'] = 100000*(rdf['Mean']-rdf['LowMean'])/(rdf['HighMean']-rdf['LowMean'])\n",
    "#rdf['Mean2'] = 100000*(rdf['Mean2']-rdf['LowMean2'])/(rdf['HighMean2']-rdf['LowMean2'])\n",
    "rdf['Mean'] = rdf['Mean']/rdf['LowMean'] * 10000\n",
    "rdf['Mean2'] = rdf['Mean2']/rdf['LowMean2'] * 10000\n",
    "\n",
    "rdf = rdf[(rdf['Mean']>0) & (rdf['Mean2']>0)]\n",
    "\n",
    "rdf['LMean'] = np.log(0.0001+rdf['Mean'])\n",
    "rdf['LMean2'] = np.log(0.0001+rdf['Mean2'])"
   ]
  },
  {
   "cell_type": "code",
   "execution_count": null,
   "metadata": {},
   "outputs": [],
   "source": [
    "px.histogram(rdf[rdf['gene']=='agat-1'], x=\"LMean\", facet_row='file', height=1200\n",
    "                   )"
   ]
  },
  {
   "cell_type": "code",
   "execution_count": null,
   "metadata": {},
   "outputs": [],
   "source": [
    "px.scatter(rdf, x='LMean', y='LMean2', hover_data=['X', 'Y', 'Slice', 'file'], facet_col='timen',\n",
    "           facet_row='gene',  color='file', height=800)"
   ]
  },
  {
   "cell_type": "code",
   "execution_count": null,
   "metadata": {},
   "outputs": [],
   "source": [
    "rdf.shape"
   ]
  },
  {
   "cell_type": "markdown",
   "metadata": {},
   "source": [
    "This is messy, but it allows to see some broad trends.  More importantly it lets us click off individual files to see if they are different from the general trends."
   ]
  },
  {
   "cell_type": "code",
   "execution_count": null,
   "metadata": {},
   "outputs": [],
   "source": [
    "def clear_layers():\n",
    "    for i in range(0, len(viewer.layers)):\n",
    "        viewer.layers.remove(viewer.layers[0].name)"
   ]
  },
  {
   "cell_type": "code",
   "execution_count": 5,
   "metadata": {},
   "outputs": [
    {
     "ename": "NameError",
     "evalue": "name 'rdf' is not defined",
     "output_type": "error",
     "traceback": [
      "\u001b[1;31m---------------------------------------------------------------------------\u001b[0m",
      "\u001b[1;31mNameError\u001b[0m                                 Traceback (most recent call last)",
      "\u001b[1;32m<ipython-input-5-281240a88a91>\u001b[0m in \u001b[0;36m<module>\u001b[1;34m\u001b[0m\n\u001b[1;32m----> 1\u001b[1;33m \u001b[0msdf\u001b[0m \u001b[1;33m=\u001b[0m \u001b[0mrdf\u001b[0m\u001b[1;33m.\u001b[0m\u001b[0mreset_index\u001b[0m\u001b[1;33m(\u001b[0m\u001b[1;33m)\u001b[0m\u001b[1;33m.\u001b[0m\u001b[0mreset_index\u001b[0m\u001b[1;33m(\u001b[0m\u001b[1;33m)\u001b[0m\u001b[1;33m\u001b[0m\u001b[1;33m\u001b[0m\u001b[0m\n\u001b[0m\u001b[0;32m      2\u001b[0m \u001b[1;33m\u001b[0m\u001b[0m\n\u001b[0;32m      3\u001b[0m f=go.FigureWidget(\n\u001b[0;32m      4\u001b[0m     px.scatter(sdf, x='LMean', y='LMean2', hover_data=['file', 'Slice', 'X', 'Y', 'level_0'], \n\u001b[0;32m      5\u001b[0m                height=1200, log_x=True, log_y=True, color='file', facet_row='gene')\n",
      "\u001b[1;31mNameError\u001b[0m: name 'rdf' is not defined"
     ]
    }
   ],
   "source": [
    "sdf = rdf.reset_index().reset_index()\n",
    "\n",
    "f=go.FigureWidget(\n",
    "    px.scatter(sdf, x='LMean', y='LMean2', hover_data=['file', 'Slice', 'X', 'Y', 'level_0'], \n",
    "               height=1200, log_x=True, log_y=True, color='file', facet_row='gene')\n",
    "    )\n",
    "def click_fn(trace, points, state):\n",
    "    #print(f.data[points.trace_index]['customdata'][points.point_inds[-1]])\n",
    "    if (len(points.point_inds)>0):\n",
    "        clear_layers()\n",
    "        idx = f.data[points.trace_index]['customdata'][points.point_inds[-1]][4]\n",
    "        cur = rdf.iloc[idx]\n",
    "        print([idx, points.point_inds[0]])\n",
    "        \n",
    "        img = tifffile.imread(cur['file']+'.tif')\n",
    "        viewer.add_image(img, channel_axis=1, blending='additive')\n",
    "        viewer.layers[-1].visible=False\n",
    "        img = tifffile.imread(cur['file']+'_mask.tif')\n",
    "        viewer.add_image(img, blending='additive', colormap='magenta')\n",
    "        viewer.camera.center = [0,cur['Y'], cur['X']]\n",
    "        viewer.camera.zoom=8\n",
    "        viewer.dims.current_step = (cur['Slice']-1,0,0)\n",
    "        \n",
    "        viewer.layers[-1].contrast_limits=[0,4.0]\n",
    "        viewer.layers[-3].contrast_limits=[0,15000]\n",
    "        viewer.layers[-4].contrast_limits=[0,2000]\n",
    "        #file = f.data[points.trace_index]['customdata'][points.point_inds[-1]][0]\n",
    "        #show_image(file+'_processed.tif', viewer)\n",
    "\n",
    "\n",
    "for s in f.data:\n",
    "    s.on_click(click_fn)\n",
    "#f.data[0].on_click(click_fn)\n",
    "\n",
    "f"
   ]
  },
  {
   "cell_type": "markdown",
   "metadata": {},
   "source": [
    "Although the above is clickable, it is not as informative as all spots are overlapping with each other.  The heatmap below shows trends better."
   ]
  },
  {
   "cell_type": "code",
   "execution_count": 6,
   "metadata": {},
   "outputs": [
    {
     "ename": "NameError",
     "evalue": "name 'rdf' is not defined",
     "output_type": "error",
     "traceback": [
      "\u001b[1;31m---------------------------------------------------------------------------\u001b[0m",
      "\u001b[1;31mNameError\u001b[0m                                 Traceback (most recent call last)",
      "\u001b[1;32m<ipython-input-6-1f1c3fa9e5cb>\u001b[0m in \u001b[0;36m<module>\u001b[1;34m\u001b[0m\n\u001b[1;32m----> 1\u001b[1;33m px.density_heatmap(rdf, x=\"LMean\", y=\"LMean2\",  \n\u001b[0m\u001b[0;32m      2\u001b[0m                    \u001b[0mnbinsx\u001b[0m\u001b[1;33m=\u001b[0m\u001b[1;36m150\u001b[0m\u001b[1;33m,\u001b[0m \u001b[0mnbinsy\u001b[0m\u001b[1;33m=\u001b[0m\u001b[1;36m150\u001b[0m\u001b[1;33m,\u001b[0m \u001b[0mfacet_row\u001b[0m\u001b[1;33m=\u001b[0m\u001b[1;34m'gene'\u001b[0m\u001b[1;33m,\u001b[0m \u001b[0mheight\u001b[0m\u001b[1;33m=\u001b[0m\u001b[1;36m1200\u001b[0m\u001b[1;33m,\u001b[0m \u001b[0mfacet_col\u001b[0m\u001b[1;33m=\u001b[0m\u001b[1;34m'timen'\u001b[0m\u001b[1;33m,\u001b[0m \u001b[1;31m#animation_frame='file',\u001b[0m\u001b[1;33m\u001b[0m\u001b[1;33m\u001b[0m\u001b[0m\n\u001b[0;32m      3\u001b[0m                    color_continuous_scale=[(0, \"blue\"), (0.01, \"green\"), (0.04, 'yellow'), (1, \"red\")])\n",
      "\u001b[1;31mNameError\u001b[0m: name 'rdf' is not defined"
     ]
    }
   ],
   "source": [
    "px.density_heatmap(rdf, x=\"LMean\", y=\"LMean2\",  \n",
    "                   nbinsx=150, nbinsy=150, facet_row='gene', height=1200, facet_col='timen', #animation_frame='file',\n",
    "                   color_continuous_scale=[(0, \"blue\"), (0.01, \"green\"), (0.04, 'yellow'), (1, \"red\")])"
   ]
  },
  {
   "cell_type": "code",
   "execution_count": 7,
   "metadata": {},
   "outputs": [
    {
     "ename": "NameError",
     "evalue": "name 'rdf' is not defined",
     "output_type": "error",
     "traceback": [
      "\u001b[1;31m---------------------------------------------------------------------------\u001b[0m",
      "\u001b[1;31mNameError\u001b[0m                                 Traceback (most recent call last)",
      "\u001b[1;32m<ipython-input-7-476dce571689>\u001b[0m in \u001b[0;36m<module>\u001b[1;34m\u001b[0m\n\u001b[1;32m----> 1\u001b[1;33m \u001b[0mrdf\u001b[0m\u001b[1;33m.\u001b[0m\u001b[0mto_csv\u001b[0m\u001b[1;33m(\u001b[0m\u001b[1;34m'HeatmapScatterPlots.csv'\u001b[0m\u001b[1;33m)\u001b[0m\u001b[1;33m\u001b[0m\u001b[1;33m\u001b[0m\u001b[0m\n\u001b[0m",
      "\u001b[1;31mNameError\u001b[0m: name 'rdf' is not defined"
     ]
    }
   ],
   "source": [
    "rdf.to_csv('HeatmapScatterPlots.csv')"
   ]
  },
  {
   "cell_type": "markdown",
   "metadata": {},
   "source": [
    "Note that there are in prog-1 (and to some extent piwi) cells which show up on the diagonal.  Investigating these I found that these are NOT specifically labeled cells, but are gut/proto cells that are naturally autfluorescent in all channels and which for some reason show up a lot in some from prog-1 homeo."
   ]
  },
  {
   "cell_type": "markdown",
   "metadata": {},
   "source": [
    "# Classify using thresholds"
   ]
  },
  {
   "cell_type": "code",
   "execution_count": 8,
   "metadata": {},
   "outputs": [],
   "source": [
    "def show_labeled_image(file):\n",
    "    clear_layers()\n",
    "    img = tifffile.imread(file)\n",
    "    viewer.add_image(img, channel_axis=1)\n",
    "    viewer.layers[-3].colormap='magenta'\n",
    "\n",
    "    file = file[0:-4]\n",
    "\n",
    "    tdf = rdf[(rdf['file']==file) & (rdf['Positive'])]\n",
    "    pts = np.zeros([img.shape[0], img.shape[2], img.shape[3]])\n",
    "    pts[tdf['Slice'].astype(int)-1, tdf['Y'].astype(int), tdf['X'].astype(int)] = 255\n",
    "    viewer.add_image(pts, blending='additive')\n",
    "\n",
    "    tdf = rdf[(rdf['file']==file) & (rdf['Positive2'])]\n",
    "    pts = np.zeros([img.shape[0], img.shape[2], img.shape[3]])\n",
    "    pts[tdf['Slice'].astype(int)-1, tdf['Y'].astype(int), tdf['X'].astype(int)] = 255\n",
    "    viewer.add_image(pts, blending='additive')\n",
    "\n",
    "    tdf = rdf[(rdf['file']==file) & (rdf['BothPositive'])]\n",
    "    pts = np.zeros([img.shape[0], img.shape[2], img.shape[3]])\n",
    "    pts[tdf['Slice'].astype(int)-1, tdf['Y'].astype(int), tdf['X'].astype(int)] = 255\n",
    "    viewer.add_image(pts, blending='additive')\n",
    "    \n",
    "    viewer.layers[-3].colormap='magenta'\n",
    "    viewer.layers[-2].colormap='green'\n",
    "    viewer.layers[-1].colormap='gray'"
   ]
  },
  {
   "cell_type": "markdown",
   "metadata": {},
   "source": [
    "These thresholds were settled upon through a series of trial and errors:  trying a threshold and then looking at the results by clicking on points and looking at images.  "
   ]
  },
  {
   "cell_type": "code",
   "execution_count": 9,
   "metadata": {},
   "outputs": [
    {
     "ename": "NameError",
     "evalue": "name 'rdf' is not defined",
     "output_type": "error",
     "traceback": [
      "\u001b[1;31m---------------------------------------------------------------------------\u001b[0m",
      "\u001b[1;31mNameError\u001b[0m                                 Traceback (most recent call last)",
      "\u001b[1;32m<ipython-input-9-5d0cb2a9e207>\u001b[0m in \u001b[0;36m<module>\u001b[1;34m\u001b[0m\n\u001b[0;32m     14\u001b[0m \u001b[0mmapper\u001b[0m \u001b[1;33m=\u001b[0m \u001b[1;33m{\u001b[0m\u001b[1;34m'agat-1'\u001b[0m\u001b[1;33m:\u001b[0m\u001b[0magat1\u001b[0m\u001b[1;33m,\u001b[0m \u001b[1;34m'agat-3'\u001b[0m\u001b[1;33m:\u001b[0m\u001b[0magat3\u001b[0m\u001b[1;33m,\u001b[0m \u001b[1;34m'piwi'\u001b[0m\u001b[1;33m:\u001b[0m\u001b[0mpiwi\u001b[0m\u001b[1;33m,\u001b[0m \u001b[1;34m'prog-1'\u001b[0m\u001b[1;33m:\u001b[0m\u001b[0mprog1\u001b[0m\u001b[1;33m}\u001b[0m\u001b[1;33m\u001b[0m\u001b[1;33m\u001b[0m\u001b[0m\n\u001b[0;32m     15\u001b[0m \u001b[1;33m\u001b[0m\u001b[0m\n\u001b[1;32m---> 16\u001b[1;33m \u001b[0mrdf\u001b[0m\u001b[1;33m[\u001b[0m\u001b[1;34m'Cutoff'\u001b[0m\u001b[1;33m]\u001b[0m \u001b[1;33m=\u001b[0m \u001b[0mrdf\u001b[0m\u001b[1;33m[\u001b[0m\u001b[1;34m'gene'\u001b[0m\u001b[1;33m]\u001b[0m\u001b[1;33m.\u001b[0m\u001b[0mmap\u001b[0m\u001b[1;33m(\u001b[0m\u001b[0mmapper\u001b[0m\u001b[1;33m)\u001b[0m\u001b[1;33m\u001b[0m\u001b[1;33m\u001b[0m\u001b[0m\n\u001b[0m\u001b[0;32m     17\u001b[0m \u001b[0mrdf\u001b[0m\u001b[1;33m[\u001b[0m\u001b[1;34m'Positive'\u001b[0m\u001b[1;33m]\u001b[0m \u001b[1;33m=\u001b[0m \u001b[0mrdf\u001b[0m\u001b[1;33m[\u001b[0m\u001b[1;34m'Mean'\u001b[0m\u001b[1;33m]\u001b[0m \u001b[1;33m>\u001b[0m \u001b[0msif\u001b[0m\u001b[1;33m\u001b[0m\u001b[1;33m\u001b[0m\u001b[0m\n\u001b[0;32m     18\u001b[0m \u001b[0mrdf\u001b[0m\u001b[1;33m[\u001b[0m\u001b[1;34m'Positive2'\u001b[0m\u001b[1;33m]\u001b[0m \u001b[1;33m=\u001b[0m \u001b[0mrdf\u001b[0m\u001b[1;33m[\u001b[0m\u001b[1;34m'Mean2'\u001b[0m\u001b[1;33m]\u001b[0m \u001b[1;33m>\u001b[0m \u001b[0mrdf\u001b[0m\u001b[1;33m[\u001b[0m\u001b[1;34m'Cutoff'\u001b[0m\u001b[1;33m]\u001b[0m\u001b[1;33m\u001b[0m\u001b[1;33m\u001b[0m\u001b[0m\n",
      "\u001b[1;31mNameError\u001b[0m: name 'rdf' is not defined"
     ]
    }
   ],
   "source": [
    "sif = np.exp(10.5)\n",
    "prog1 = np.exp(12.2)\n",
    "piwi = np.exp(10.6)\n",
    "agat3 = np.exp(11.0)\n",
    "agat1 = np.exp(11.0)\n",
    "\n",
    "#sif = np.exp(10.4)\n",
    "#prog1 = np.exp(10.8)\n",
    "#piwi = np.exp(11)\n",
    "#agat3 = np.exp(11.2)\n",
    "#agat1 = np.exp(11.4)\n",
    "\n",
    "\n",
    "mapper = {'agat-1':agat1, 'agat-3':agat3, 'piwi':piwi, 'prog-1':prog1}\n",
    "\n",
    "rdf['Cutoff'] = rdf['gene'].map(mapper)\n",
    "rdf['Positive'] = rdf['Mean'] > sif\n",
    "rdf['Positive2'] = rdf['Mean2'] > rdf['Cutoff']\n",
    "rdf['BothPositive'] = (rdf['Positive']) & (rdf['Positive2'])"
   ]
  },
  {
   "cell_type": "code",
   "execution_count": 10,
   "metadata": {},
   "outputs": [
    {
     "ename": "NameError",
     "evalue": "name 'rdf' is not defined",
     "output_type": "error",
     "traceback": [
      "\u001b[1;31m---------------------------------------------------------------------------\u001b[0m",
      "\u001b[1;31mNameError\u001b[0m                                 Traceback (most recent call last)",
      "\u001b[1;32m<ipython-input-10-dcedfaf425e3>\u001b[0m in \u001b[0;36m<module>\u001b[1;34m\u001b[0m\n\u001b[1;32m----> 1\u001b[1;33m \u001b[0magged\u001b[0m \u001b[1;33m=\u001b[0m \u001b[0mrdf\u001b[0m\u001b[1;33m.\u001b[0m\u001b[0mgroupby\u001b[0m\u001b[1;33m(\u001b[0m\u001b[1;33m[\u001b[0m\u001b[1;34m'gene'\u001b[0m\u001b[1;33m,\u001b[0m \u001b[1;34m'timen'\u001b[0m\u001b[1;33m,\u001b[0m \u001b[1;34m'file'\u001b[0m\u001b[1;33m]\u001b[0m\u001b[1;33m)\u001b[0m\u001b[1;33m.\u001b[0m\u001b[0magg\u001b[0m\u001b[1;33m(\u001b[0m\u001b[1;33m{\u001b[0m\u001b[1;34m'Positive'\u001b[0m\u001b[1;33m:\u001b[0m\u001b[0mnp\u001b[0m\u001b[1;33m.\u001b[0m\u001b[0msum\u001b[0m\u001b[1;33m,\u001b[0m \u001b[1;34m'Positive2'\u001b[0m\u001b[1;33m:\u001b[0m\u001b[0mnp\u001b[0m\u001b[1;33m.\u001b[0m\u001b[0msum\u001b[0m\u001b[1;33m,\u001b[0m \u001b[1;34m'BothPositive'\u001b[0m\u001b[1;33m:\u001b[0m\u001b[0mnp\u001b[0m\u001b[1;33m.\u001b[0m\u001b[0msum\u001b[0m\u001b[1;33m}\u001b[0m\u001b[1;33m)\u001b[0m\u001b[1;33m\u001b[0m\u001b[1;33m\u001b[0m\u001b[0m\n\u001b[0m\u001b[0;32m      2\u001b[0m \u001b[0magged\u001b[0m\u001b[1;33m[\u001b[0m\u001b[1;34m'FracDoublePositive'\u001b[0m\u001b[1;33m]\u001b[0m \u001b[1;33m=\u001b[0m \u001b[0magged\u001b[0m\u001b[1;33m[\u001b[0m\u001b[1;34m'BothPositive'\u001b[0m\u001b[1;33m]\u001b[0m\u001b[1;33m/\u001b[0m\u001b[0magged\u001b[0m\u001b[1;33m[\u001b[0m\u001b[1;34m'Positive'\u001b[0m\u001b[1;33m]\u001b[0m \u001b[1;33m*\u001b[0m \u001b[1;36m100\u001b[0m\u001b[1;33m\u001b[0m\u001b[1;33m\u001b[0m\u001b[0m\n\u001b[0;32m      3\u001b[0m \u001b[1;33m\u001b[0m\u001b[0m\n\u001b[0;32m      4\u001b[0m \u001b[1;33m\u001b[0m\u001b[0m\n\u001b[0;32m      5\u001b[0m f=go.FigureWidget(\n",
      "\u001b[1;31mNameError\u001b[0m: name 'rdf' is not defined"
     ]
    }
   ],
   "source": [
    "agged = rdf.groupby(['gene', 'timen', 'file']).agg({'Positive':np.sum, 'Positive2':np.sum, 'BothPositive':np.sum})\n",
    "agged['FracDoublePositive'] = agged['BothPositive']/agged['Positive'] * 100\n",
    "\n",
    "\n",
    "f=go.FigureWidget(\n",
    "    px.box(agged.reset_index(), x='gene', y='FracDoublePositive', color='timen', points='all', hover_data=['file'])\n",
    "    )\n",
    "     \n",
    "def click_fn(trace, points, state):\n",
    "    \n",
    "    if (len(points.point_inds)>0):\n",
    "        file = f.data[points.trace_index]['customdata'][points.point_inds[-1]][0]\n",
    "        print(file)\n",
    "        show_labeled_image(file+'.tif')\n",
    "\n",
    "for a in range(0,len(f.data)):\n",
    "    f.data[a].on_click(click_fn)\n",
    "\n",
    "f"
   ]
  },
  {
   "cell_type": "code",
   "execution_count": 11,
   "metadata": {},
   "outputs": [
    {
     "ename": "NameError",
     "evalue": "name 'rdf' is not defined",
     "output_type": "error",
     "traceback": [
      "\u001b[1;31m---------------------------------------------------------------------------\u001b[0m",
      "\u001b[1;31mNameError\u001b[0m                                 Traceback (most recent call last)",
      "\u001b[1;32m<ipython-input-11-fa74be2d4887>\u001b[0m in \u001b[0;36m<module>\u001b[1;34m\u001b[0m\n\u001b[1;32m----> 1\u001b[1;33m \u001b[0magged\u001b[0m \u001b[1;33m=\u001b[0m \u001b[0mrdf\u001b[0m\u001b[1;33m.\u001b[0m\u001b[0mgroupby\u001b[0m\u001b[1;33m(\u001b[0m\u001b[1;33m[\u001b[0m\u001b[1;34m'gene'\u001b[0m\u001b[1;33m,\u001b[0m \u001b[1;34m'time'\u001b[0m\u001b[1;33m,\u001b[0m \u001b[1;34m'file'\u001b[0m\u001b[1;33m]\u001b[0m\u001b[1;33m)\u001b[0m\u001b[1;33m.\u001b[0m\u001b[0magg\u001b[0m\u001b[1;33m(\u001b[0m\u001b[1;33m{\u001b[0m\u001b[1;34m'Positive'\u001b[0m\u001b[1;33m:\u001b[0m\u001b[0mnp\u001b[0m\u001b[1;33m.\u001b[0m\u001b[0msum\u001b[0m\u001b[1;33m,\u001b[0m \u001b[1;34m'Positive2'\u001b[0m\u001b[1;33m:\u001b[0m\u001b[0mnp\u001b[0m\u001b[1;33m.\u001b[0m\u001b[0msum\u001b[0m\u001b[1;33m,\u001b[0m \u001b[1;34m'BothPositive'\u001b[0m\u001b[1;33m:\u001b[0m\u001b[0mnp\u001b[0m\u001b[1;33m.\u001b[0m\u001b[0msum\u001b[0m\u001b[1;33m}\u001b[0m\u001b[1;33m)\u001b[0m\u001b[1;33m.\u001b[0m\u001b[0msort_values\u001b[0m\u001b[1;33m(\u001b[0m\u001b[0mby\u001b[0m\u001b[1;33m=\u001b[0m\u001b[1;34m'time'\u001b[0m\u001b[1;33m)\u001b[0m\u001b[1;33m\u001b[0m\u001b[1;33m\u001b[0m\u001b[0m\n\u001b[0m\u001b[0;32m      2\u001b[0m \u001b[0magged\u001b[0m\u001b[1;33m[\u001b[0m\u001b[1;34m'FracDoublePositive'\u001b[0m\u001b[1;33m]\u001b[0m \u001b[1;33m=\u001b[0m \u001b[0magged\u001b[0m\u001b[1;33m[\u001b[0m\u001b[1;34m'BothPositive'\u001b[0m\u001b[1;33m]\u001b[0m\u001b[1;33m/\u001b[0m\u001b[0magged\u001b[0m\u001b[1;33m[\u001b[0m\u001b[1;34m'Positive'\u001b[0m\u001b[1;33m]\u001b[0m \u001b[1;33m*\u001b[0m \u001b[1;36m100\u001b[0m\u001b[1;33m\u001b[0m\u001b[1;33m\u001b[0m\u001b[0m\n\u001b[0;32m      3\u001b[0m \u001b[0mpx\u001b[0m\u001b[1;33m.\u001b[0m\u001b[0mbox\u001b[0m\u001b[1;33m(\u001b[0m\u001b[0magged\u001b[0m\u001b[1;33m.\u001b[0m\u001b[0mreset_index\u001b[0m\u001b[1;33m(\u001b[0m\u001b[1;33m)\u001b[0m\u001b[1;33m,\u001b[0m \u001b[0mx\u001b[0m\u001b[1;33m=\u001b[0m\u001b[1;34m'gene'\u001b[0m\u001b[1;33m,\u001b[0m \u001b[0my\u001b[0m\u001b[1;33m=\u001b[0m\u001b[1;34m'FracDoublePositive'\u001b[0m\u001b[1;33m,\u001b[0m \u001b[0mcolor\u001b[0m\u001b[1;33m=\u001b[0m\u001b[1;34m'time'\u001b[0m\u001b[1;33m,\u001b[0m \u001b[0mpoints\u001b[0m\u001b[1;33m=\u001b[0m\u001b[1;34m'all'\u001b[0m\u001b[1;33m,\u001b[0m \u001b[0mhover_data\u001b[0m\u001b[1;33m=\u001b[0m\u001b[1;33m[\u001b[0m\u001b[1;34m'file'\u001b[0m\u001b[1;33m]\u001b[0m\u001b[1;33m)\u001b[0m\u001b[1;33m\u001b[0m\u001b[1;33m\u001b[0m\u001b[0m\n",
      "\u001b[1;31mNameError\u001b[0m: name 'rdf' is not defined"
     ]
    }
   ],
   "source": [
    "agged = rdf.groupby(['gene', 'time', 'file']).agg({'Positive':np.sum, 'Positive2':np.sum, 'BothPositive':np.sum}).sort_values(by='time')\n",
    "agged['FracDoublePositive'] = agged['BothPositive']/agged['Positive'] * 100\n",
    "px.box(agged.reset_index(), x='gene', y='FracDoublePositive', color='time', points='all', hover_data=['file'])"
   ]
  },
  {
   "cell_type": "code",
   "execution_count": 12,
   "metadata": {},
   "outputs": [
    {
     "ename": "NameError",
     "evalue": "name 'rdf' is not defined",
     "output_type": "error",
     "traceback": [
      "\u001b[1;31m---------------------------------------------------------------------------\u001b[0m",
      "\u001b[1;31mNameError\u001b[0m                                 Traceback (most recent call last)",
      "\u001b[1;32m<ipython-input-12-0e9399ba4675>\u001b[0m in \u001b[0;36m<module>\u001b[1;34m\u001b[0m\n\u001b[1;32m----> 1\u001b[1;33m \u001b[0magged\u001b[0m \u001b[1;33m=\u001b[0m \u001b[0mrdf\u001b[0m\u001b[1;33m.\u001b[0m\u001b[0mgroupby\u001b[0m\u001b[1;33m(\u001b[0m\u001b[1;33m[\u001b[0m\u001b[1;34m'gene'\u001b[0m\u001b[1;33m,\u001b[0m \u001b[1;34m'time'\u001b[0m\u001b[1;33m,\u001b[0m \u001b[1;34m'file'\u001b[0m\u001b[1;33m]\u001b[0m\u001b[1;33m)\u001b[0m\u001b[1;33m.\u001b[0m\u001b[0magg\u001b[0m\u001b[1;33m(\u001b[0m\u001b[1;33m{\u001b[0m\u001b[1;34m'Positive'\u001b[0m\u001b[1;33m:\u001b[0m\u001b[0mnp\u001b[0m\u001b[1;33m.\u001b[0m\u001b[0mmean\u001b[0m\u001b[1;33m,\u001b[0m \u001b[1;34m'Positive2'\u001b[0m\u001b[1;33m:\u001b[0m\u001b[0mnp\u001b[0m\u001b[1;33m.\u001b[0m\u001b[0mmean\u001b[0m\u001b[1;33m}\u001b[0m\u001b[1;33m)\u001b[0m\u001b[1;33m.\u001b[0m\u001b[0mreset_index\u001b[0m\u001b[1;33m(\u001b[0m\u001b[1;33m)\u001b[0m\u001b[1;33m.\u001b[0m\u001b[0msort_values\u001b[0m\u001b[1;33m(\u001b[0m\u001b[0mby\u001b[0m\u001b[1;33m=\u001b[0m\u001b[1;34m'time'\u001b[0m\u001b[1;33m)\u001b[0m\u001b[1;33m\u001b[0m\u001b[1;33m\u001b[0m\u001b[0m\n\u001b[0m\u001b[0;32m      2\u001b[0m \u001b[0mpx\u001b[0m\u001b[1;33m.\u001b[0m\u001b[0mbox\u001b[0m\u001b[1;33m(\u001b[0m\u001b[0magged\u001b[0m\u001b[1;33m,\u001b[0m \u001b[0mx\u001b[0m\u001b[1;33m=\u001b[0m\u001b[1;34m'gene'\u001b[0m\u001b[1;33m,\u001b[0m \u001b[0my\u001b[0m\u001b[1;33m=\u001b[0m\u001b[1;34m'Positive2'\u001b[0m\u001b[1;33m,\u001b[0m \u001b[0mcolor\u001b[0m\u001b[1;33m=\u001b[0m\u001b[1;34m'time'\u001b[0m\u001b[1;33m,\u001b[0m \u001b[0mpoints\u001b[0m\u001b[1;33m=\u001b[0m\u001b[1;34m'all'\u001b[0m\u001b[1;33m,\u001b[0m \u001b[0mhover_data\u001b[0m\u001b[1;33m=\u001b[0m\u001b[1;33m[\u001b[0m\u001b[1;34m'file'\u001b[0m\u001b[1;33m]\u001b[0m\u001b[1;33m,\u001b[0m \u001b[0mtitle\u001b[0m\u001b[1;33m=\u001b[0m\u001b[1;34m'Gene positive'\u001b[0m\u001b[1;33m)\u001b[0m\u001b[1;33m\u001b[0m\u001b[1;33m\u001b[0m\u001b[0m\n",
      "\u001b[1;31mNameError\u001b[0m: name 'rdf' is not defined"
     ]
    }
   ],
   "source": [
    "agged = rdf.groupby(['gene', 'time', 'file']).agg({'Positive':np.mean, 'Positive2':np.mean}).reset_index().sort_values(by='time')\n",
    "px.box(agged, x='gene', y='Positive2', color='time', points='all', hover_data=['file'], title='Gene positive')"
   ]
  },
  {
   "cell_type": "markdown",
   "metadata": {},
   "source": [
    "This recapitulates what we have observed before:  at homeostasis about 1/6 of cells are piwi positive.  Also for all genes there is an enrichment of cells after amputation.  Also it is good to note that since BOTH agat-1 and agat-3 colocalize with sif, they should colocalize with each other so agat-1 and agat-3 should be giving the same results here."
   ]
  },
  {
   "cell_type": "code",
   "execution_count": 13,
   "metadata": {},
   "outputs": [
    {
     "ename": "NameError",
     "evalue": "name 'rdf' is not defined",
     "output_type": "error",
     "traceback": [
      "\u001b[1;31m---------------------------------------------------------------------------\u001b[0m",
      "\u001b[1;31mNameError\u001b[0m                                 Traceback (most recent call last)",
      "\u001b[1;32m<ipython-input-13-315318f74afe>\u001b[0m in \u001b[0;36m<module>\u001b[1;34m\u001b[0m\n\u001b[1;32m----> 1\u001b[1;33m \u001b[0magged\u001b[0m \u001b[1;33m=\u001b[0m \u001b[0mrdf\u001b[0m\u001b[1;33m.\u001b[0m\u001b[0mgroupby\u001b[0m\u001b[1;33m(\u001b[0m\u001b[1;33m[\u001b[0m\u001b[1;34m'gene'\u001b[0m\u001b[1;33m,\u001b[0m \u001b[1;34m'time'\u001b[0m\u001b[1;33m,\u001b[0m \u001b[1;34m'file'\u001b[0m\u001b[1;33m]\u001b[0m\u001b[1;33m)\u001b[0m\u001b[1;33m.\u001b[0m\u001b[0magg\u001b[0m\u001b[1;33m(\u001b[0m\u001b[1;33m{\u001b[0m\u001b[1;34m'Positive'\u001b[0m\u001b[1;33m:\u001b[0m\u001b[0mnp\u001b[0m\u001b[1;33m.\u001b[0m\u001b[0mmean\u001b[0m\u001b[1;33m,\u001b[0m \u001b[1;34m'Positive2'\u001b[0m\u001b[1;33m:\u001b[0m\u001b[0mnp\u001b[0m\u001b[1;33m.\u001b[0m\u001b[0mmean\u001b[0m\u001b[1;33m}\u001b[0m\u001b[1;33m)\u001b[0m\u001b[1;33m.\u001b[0m\u001b[0mreset_index\u001b[0m\u001b[1;33m(\u001b[0m\u001b[1;33m)\u001b[0m\u001b[1;33m.\u001b[0m\u001b[0msort_values\u001b[0m\u001b[1;33m(\u001b[0m\u001b[0mby\u001b[0m\u001b[1;33m=\u001b[0m\u001b[1;34m'time'\u001b[0m\u001b[1;33m)\u001b[0m\u001b[1;33m\u001b[0m\u001b[1;33m\u001b[0m\u001b[0m\n\u001b[0m\u001b[0;32m      2\u001b[0m \u001b[0mpx\u001b[0m\u001b[1;33m.\u001b[0m\u001b[0mbox\u001b[0m\u001b[1;33m(\u001b[0m\u001b[0magged\u001b[0m\u001b[1;33m,\u001b[0m \u001b[0mx\u001b[0m\u001b[1;33m=\u001b[0m\u001b[1;34m'gene'\u001b[0m\u001b[1;33m,\u001b[0m \u001b[0my\u001b[0m\u001b[1;33m=\u001b[0m\u001b[1;34m'Positive'\u001b[0m\u001b[1;33m,\u001b[0m \u001b[0mcolor\u001b[0m\u001b[1;33m=\u001b[0m\u001b[1;34m'time'\u001b[0m\u001b[1;33m,\u001b[0m \u001b[0mpoints\u001b[0m\u001b[1;33m=\u001b[0m\u001b[1;34m'all'\u001b[0m\u001b[1;33m,\u001b[0m \u001b[0mhover_data\u001b[0m\u001b[1;33m=\u001b[0m\u001b[1;33m[\u001b[0m\u001b[1;34m'file'\u001b[0m\u001b[1;33m]\u001b[0m\u001b[1;33m,\u001b[0m \u001b[0mtitle\u001b[0m\u001b[1;33m=\u001b[0m\u001b[1;34m'Sif fraction positive'\u001b[0m\u001b[1;33m)\u001b[0m\u001b[1;33m\u001b[0m\u001b[1;33m\u001b[0m\u001b[0m\n",
      "\u001b[1;31mNameError\u001b[0m: name 'rdf' is not defined"
     ]
    }
   ],
   "source": [
    "agged = rdf.groupby(['gene', 'time', 'file']).agg({'Positive':np.mean, 'Positive2':np.mean}).reset_index().sort_values(by='time')\n",
    "px.box(agged, x='gene', y='Positive', color='time', points='all', hover_data=['file'], title='Sif fraction positive')"
   ]
  },
  {
   "cell_type": "markdown",
   "metadata": {},
   "source": [
    "Here we are only looking at sif, but we are breaking it out by the secondary gene.  We see that the results are the same irrespective of the gene, which should be the case."
   ]
  },
  {
   "cell_type": "code",
   "execution_count": null,
   "metadata": {},
   "outputs": [],
   "source": []
  }
 ],
 "metadata": {
  "kernelspec": {
   "display_name": "Python 3",
   "language": "python",
   "name": "python3"
  },
  "language_info": {
   "codemirror_mode": {
    "name": "ipython",
    "version": 3
   },
   "file_extension": ".py",
   "mimetype": "text/x-python",
   "name": "python",
   "nbconvert_exporter": "python",
   "pygments_lexer": "ipython3",
   "version": "3.7.10"
  }
 },
 "nbformat": 4,
 "nbformat_minor": 4
}
